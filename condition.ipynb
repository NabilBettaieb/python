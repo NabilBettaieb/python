{
  "cells": [
    {
      "cell_type": "code",
      "execution_count": 2,
      "id": "b34bfde3",
      "metadata": {
        "colab": {
          "base_uri": "https://localhost:8080/"
        },
        "id": "b34bfde3",
        "outputId": "7568270f-7485-4c6e-e45d-a4482100143c"
      },
      "outputs": [
        {
          "output_type": "stream",
          "name": "stdout",
          "text": [
            "5\n",
            "Vous ne pouvez pas entrer vous n’êtes pas majeur vous avez 5\n"
          ]
        }
      ],
      "source": [
        "age = int(input())\n",
        "if age<=17 :\n",
        "    print(f\"Vous ne pouvez pas entrer vous n’êtes pas majeur vous avez {age}\")\n",
        "else :\n",
        "    print(f'Vous pouvez entrer vous êtes majeur vous avez {age}')"
      ]
    },
    {
      "cell_type": "code",
      "execution_count": 3,
      "id": "a13c4960",
      "metadata": {
        "colab": {
          "base_uri": "https://localhost:8080/"
        },
        "id": "a13c4960",
        "outputId": "70320dfa-ab9b-4556-b202-eaea77e8f1a1"
      },
      "outputs": [
        {
          "output_type": "stream",
          "name": "stdout",
          "text": [
            "War 23\n"
          ]
        }
      ],
      "source": [
        "import random\n",
        "rand = random.randint(0,30)\n",
        "if rand in range(0,10):\n",
        "    print('cool',rand)\n",
        "elif rand in range(11,20):\n",
        "    print('Tepid',rand)\n",
        "else:\n",
        "    print('War',rand)"
      ]
    },
    {
      "cell_type": "code",
      "execution_count": 4,
      "id": "45ed2679",
      "metadata": {
        "colab": {
          "base_uri": "https://localhost:8080/"
        },
        "id": "45ed2679",
        "outputId": "453f9f3d-c5ca-4f7c-dd97-69289800f06c"
      },
      "outputs": [
        {
          "output_type": "stream",
          "name": "stdout",
          "text": [
            "Nous sommes le Mardi\n"
          ]
        }
      ],
      "source": [
        "from datetime import datetime\n",
        "\n",
        "toda = datetime.now().weekday()\n",
        "match toda:\n",
        "    case 1:\n",
        "        jour = \"Lundi\"\n",
        "        print(f\"Nous sommes le {jour}\")\n",
        "    case 2:\n",
        "        jour = \"Mardi\"\n",
        "        print(f\"Nous sommes le {jour}\")\n",
        "    case 3:\n",
        "        jour = \"Mercredi\"\n",
        "        print(f\"Nous sommes le {jour}\")\n",
        "    case 4:\n",
        "        jour = \"Jeudi\"\n",
        "        print(f\"Nous sommes le {jour}\")\n",
        "    case 5:\n",
        "        jour = \"Vendredi\"\n",
        "        print(f\"Nous sommes le {jour}\")\n",
        "    case 6:\n",
        "        jour = \"Samedi\"\n",
        "        print(f\"Nous sommes le {jour}\")\n",
        "    case 7:\n",
        "        jour = \"Dimanche\"\n",
        "        print(f\"Nous sommes le {jour}\")\n"
      ]
    },
    {
      "cell_type": "code",
      "source": [
        "print(\"Bienvenue dans l'histoire mystérieuse de la grotte sombre.\")\n",
        "print(\"Vous vous trouvez à l'entrée d'une grotte sombre. Que choisissez-vous de faire ?\")\n",
        "\n",
        "reponse1 = input(\"1. Entrer dans la grotte\\n2. Chercher une autre route\\nChoix : \")\n",
        "\n",
        "if reponse1 == '1':\n",
        "    print(\"Vous entrez courageusement dans la grotte.\")\n",
        "    reponse2 = input(\"Vous découvrez un chemin bifurqué. Que faites-vous ?\\n1. Prendre le chemin de gauche\\n2. Prendre le chemin de droite\\nChoix : \")\n",
        "\n",
        "    if reponse2 == '1':\n",
        "        print(\"Vous suivez le chemin de gauche et arrivez devant une porte verrouillée.\")\n",
        "        reponse3 = input(\"1. Essayer de forcer la porte\\n2. Retourner sur vos pas\\nChoix : \")\n",
        "\n",
        "        if reponse3 == '1':\n",
        "            print(\"Vous forcez la porte avec succès et découvrez un trésor caché ! Vous avez réussi !\")\n",
        "        else:\n",
        "            print(\"Vous décidez de faire demi-tour, mais en chemin, vous vous perdez. Fin de l'aventure.\")\n",
        "\n",
        "    else:\n",
        "        print(\"Vous prenez le chemin de droite et tombez dans un piège ! Fin de l'aventure.\")\n",
        "\n",
        "else:\n",
        "    print(\"Vous décidez de chercher une autre route, mais vous vous retrouvez perdu dans la forêt. Fin de l'aventure.\")\n"
      ],
      "metadata": {
        "colab": {
          "base_uri": "https://localhost:8080/"
        },
        "id": "-GbDrEsUdtZJ",
        "outputId": "d24c00dd-e027-4466-b5c5-7c30e7e8892f"
      },
      "id": "-GbDrEsUdtZJ",
      "execution_count": 17,
      "outputs": [
        {
          "output_type": "stream",
          "name": "stdout",
          "text": [
            "Bienvenue dans l'histoire mystérieuse de la grotte sombre.\n",
            "Vous vous trouvez à l'entrée d'une grotte sombre. Que choisissez-vous de faire ?\n",
            "1. Entrer dans la grotte\n",
            "2. Chercher une autre route\n",
            "Choix : 1\n",
            "Vous entrez courageusement dans la grotte.\n",
            "Vous découvrez un chemin bifurqué. Que faites-vous ?\n",
            "1. Prendre le chemin de gauche\n",
            "2. Prendre le chemin de droite\n",
            "Choix : 1\n",
            "Vous suivez le chemin de gauche et arrivez devant une porte verrouillée.\n",
            "1. Essayer de forcer la porte\n",
            "2. Retourner sur vos pas\n",
            "Choix : 1\n",
            "Vous forcez la porte avec succès et découvrez un trésor caché ! Vous avez réussi !\n"
          ]
        }
      ]
    },
    {
      "cell_type": "code",
      "execution_count": 7,
      "id": "eaf4288a",
      "metadata": {
        "colab": {
          "base_uri": "https://localhost:8080/"
        },
        "id": "eaf4288a",
        "outputId": "ced0db43-a67d-4ec4-8381-9305867660b5"
      },
      "outputs": [
        {
          "output_type": "stream",
          "name": "stdout",
          "text": [
            "nexiste pas\n"
          ]
        }
      ],
      "source": [
        "print('42' if 'val'=='42'else 'existe mais inconnu' if 'val' in globals() else 'nexiste pas')\n"
      ]
    },
    {
      "cell_type": "code",
      "source": [
        "print('entrez le prix initial du produit ')\n",
        "prix = int(input())\n",
        "print('entrez la reduction en % , par exemple : 30 pour 30% ...')\n",
        "remise = int(input())\n",
        "nv = prix * (1-remise/100)\n",
        "if nv<(prix/2) :#On peut mettre la condition sur la remise\n",
        "  print('la remise est trop élevé')\n",
        "else :\n",
        "  print(nv)"
      ],
      "metadata": {
        "colab": {
          "base_uri": "https://localhost:8080/"
        },
        "id": "tYP7rPYWZFMO",
        "outputId": "df13ec70-d8f3-4022-bf5a-87930b51c487"
      },
      "id": "tYP7rPYWZFMO",
      "execution_count": 10,
      "outputs": [
        {
          "output_type": "stream",
          "name": "stdout",
          "text": [
            "entrez le prix initial du produit \n",
            "55\n",
            "entrez la reduction en % , par exemple : 30 pour 30% ...\n",
            "55\n",
            "la remise est trop élevé\n"
          ]
        }
      ]
    },
    {
      "cell_type": "code",
      "source": [
        "x= int(input())\n",
        "if (x%2==0):\n",
        "  print('paire')\n",
        "else :\n",
        "  print('impaire')"
      ],
      "metadata": {
        "id": "JnZL6I7Baruw"
      },
      "id": "JnZL6I7Baruw",
      "execution_count": null,
      "outputs": []
    },
    {
      "cell_type": "code",
      "execution_count": 4,
      "id": "8704dad4",
      "metadata": {
        "id": "8704dad4"
      },
      "outputs": [],
      "source": []
    },
    {
      "cell_type": "code",
      "source": [
        "bb"
      ],
      "metadata": {
        "id": "_0HQeiOvZDhR"
      },
      "id": "_0HQeiOvZDhR",
      "execution_count": null,
      "outputs": []
    }
  ],
  "metadata": {
    "kernelspec": {
      "display_name": "Python 3 (ipykernel)",
      "language": "python",
      "name": "python3"
    },
    "language_info": {
      "codemirror_mode": {
        "name": "ipython",
        "version": 3
      },
      "file_extension": ".py",
      "mimetype": "text/x-python",
      "name": "python",
      "nbconvert_exporter": "python",
      "pygments_lexer": "ipython3",
      "version": "3.11.3"
    },
    "colab": {
      "provenance": []
    }
  },
  "nbformat": 4,
  "nbformat_minor": 5
}