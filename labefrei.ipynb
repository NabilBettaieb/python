{
 "cells": [
  {
   "cell_type": "code",
   "execution_count": 1,
   "id": "2ed421e5",
   "metadata": {},
   "outputs": [
    {
     "name": "stdout",
     "output_type": "stream",
     "text": [
      "question 1 terminée\n",
      "question 2 terminée\n"
     ]
    }
   ],
   "source": [
    "#My Python Code Forever\n",
    "print('question 1 terminée')\n",
    "'''\n",
    "My Python \n",
    "Code\n",
    "every day\n",
    "'''\n",
    "print('question 2 terminée')\n"
   ]
  },
  {
   "cell_type": "code",
   "execution_count": 13,
   "id": "f993e5bc",
   "metadata": {},
   "outputs": [
    {
     "name": "stdout",
     "output_type": "stream",
     "text": [
      "<class 'int'>\n",
      "<class 'float'>\n",
      "<class 'list'> <class 'list'>\n",
      "<class 'str'>\n",
      "<class 'bool'>\n",
      "<class 'datetime.datetime'>\n",
      "question 3 terminée\n"
     ]
    }
   ],
   "source": [
    "chiffre = 5\n",
    "print(type(chiffre))\n",
    "reel = 5.5\n",
    "print(type(reel))\n",
    "liste_vide = []\n",
    "liste_de_listes = [[1,2,3],[4,5,5,6],'XXXX']\n",
    "print(type(liste_vide),type(liste_de_listes))\n",
    "chaine = \"Nom et prenom\"\n",
    "print(type(chaine))\n",
    "f= True \n",
    "print(type(f))\n",
    "\n",
    "from datetime import datetime\n",
    "now = datetime.now()\n",
    "print(type(now))\n",
    "print('question 3 terminée')"
   ]
  },
  {
   "cell_type": "code",
   "execution_count": 31,
   "id": "1a8c027e",
   "metadata": {},
   "outputs": [
    {
     "name": "stdout",
     "output_type": "stream",
     "text": [
      "13\n",
      "question 4 terminée\n"
     ]
    }
   ],
   "source": [
    "my42 = \"quarante-deux\"\n",
    "my42count = len(my42)\n",
    "print(my42count)\n",
    "print('question 4 terminée')"
   ]
  },
  {
   "cell_type": "code",
   "execution_count": 38,
   "id": "f56491fe",
   "metadata": {},
   "outputs": [
    {
     "name": "stdout",
     "output_type": "stream",
     "text": [
      "42\n",
      "question 5 terminée\n"
     ]
    }
   ],
   "source": [
    "ma_variable = locals().get('ma_variable', 42)\n",
    "print(ma_variable)\n",
    "print('question 5 terminée')"
   ]
  },
  {
   "cell_type": "code",
   "execution_count": 18,
   "id": "d58af773",
   "metadata": {},
   "outputs": [
    {
     "name": "stdout",
     "output_type": "stream",
     "text": [
      "<class 'numpy.ndarray'>\n",
      "question 6 terminée\n"
     ]
    }
   ],
   "source": [
    "import numpy as np \n",
    "myarray42 = np.array([my42count[i] for i in range(len(my42count))])\n",
    "print(type(myarray42))\n",
    "print('question 6 terminée')"
   ]
  },
  {
   "cell_type": "code",
   "execution_count": 23,
   "id": "cc5fc484",
   "metadata": {},
   "outputs": [
    {
     "name": "stdout",
     "output_type": "stream",
     "text": [
      "13\n",
      "question 7 terminée\n"
     ]
    }
   ],
   "source": [
    "myArray42Len = len(myarray42)\n",
    "print(myArray42Len)\n",
    "print('question 7 terminée')"
   ]
  },
  {
   "cell_type": "code",
   "execution_count": 32,
   "id": "709bb886",
   "metadata": {},
   "outputs": [
    {
     "name": "stdout",
     "output_type": "stream",
     "text": [
      "quarante-deuxLa grande réponse sur la vie, l’univers et le reste !\n",
      "question 8 terminée\n"
     ]
    }
   ],
   "source": [
    "nv= my42+\"La grande réponse sur la vie, l’univers et le reste !\"\n",
    "print(nv)\n",
    "print('question 8 terminée')"
   ]
  },
  {
   "cell_type": "code",
   "execution_count": 36,
   "id": "0a50e992",
   "metadata": {},
   "outputs": [
    {
     "name": "stdout",
     "output_type": "stream",
     "text": [
      "34\n",
      "question 9 terminée\n"
     ]
    }
   ],
   "source": [
    "import random\n",
    "rand = random.randint(1,42)\n",
    "print(rand)\n",
    "print('question 9 terminée')"
   ]
  },
  {
   "cell_type": "code",
   "execution_count": 35,
   "id": "3867d846",
   "metadata": {},
   "outputs": [
    {
     "name": "stdout",
     "output_type": "stream",
     "text": [
      "<class 'numpy.ndarray'>\n",
      "question 10 terminée\n"
     ]
    }
   ],
   "source": [
    "my42Type =type(myarray42)\n",
    "print(my42Type)\n",
    "print('question 10 terminée')"
   ]
  },
  {
   "cell_type": "code",
   "execution_count": 37,
   "id": "0a482a98",
   "metadata": {},
   "outputs": [
    {
     "name": "stdout",
     "output_type": "stream",
     "text": [
      "<class 'str'>\n",
      "question 11 terminée\n"
     ]
    }
   ],
   "source": [
    "compute42 = 7*6\n",
    "lcomp = str(compute42)\n",
    "print(type(lcomp))\n",
    "print('question 11 terminée')"
   ]
  },
  {
   "cell_type": "code",
   "execution_count": 39,
   "id": "2c46fcca",
   "metadata": {},
   "outputs": [
    {
     "name": "stdout",
     "output_type": "stream",
     "text": [
      "42424242 Quarante-deuxQuarante-deuxQuarante-deuxQuarante-deux\n",
      "question 12 terminée\n"
     ]
    }
   ],
   "source": [
    "lachaine = \"42424242\"\n",
    "x=lachaine.replace(\"42\",\"Quarante-deux\")\n",
    "print(lachaine,x)\n",
    "print('question 12 terminée')"
   ]
  },
  {
   "cell_type": "code",
   "execution_count": 29,
   "id": "d965b68a",
   "metadata": {},
   "outputs": [
    {
     "name": "stdout",
     "output_type": "stream",
     "text": [
      "24 42\n",
      "42 24\n",
      "question 13 terminée\n"
     ]
    }
   ],
   "source": [
    "a = 24\n",
    "b=42\n",
    "print(a,b)\n",
    "c=a\n",
    "a=b\n",
    "b=c\n",
    "print(a,b)\n",
    "print('question 13 terminée')"
   ]
  },
  {
   "cell_type": "code",
   "execution_count": null,
   "id": "214289e5",
   "metadata": {},
   "outputs": [],
   "source": []
  }
 ],
 "metadata": {
  "kernelspec": {
   "display_name": "Python 3 (ipykernel)",
   "language": "python",
   "name": "python3"
  },
  "language_info": {
   "codemirror_mode": {
    "name": "ipython",
    "version": 3
   },
   "file_extension": ".py",
   "mimetype": "text/x-python",
   "name": "python",
   "nbconvert_exporter": "python",
   "pygments_lexer": "ipython3",
   "version": "3.9.12"
  }
 },
 "nbformat": 4,
 "nbformat_minor": 5
}
